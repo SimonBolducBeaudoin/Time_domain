{
 "cells": [
  {
   "cell_type": "markdown",
   "metadata": {},
   "source": [
    "# Mesure de statistique de $\\hat{n}(t)$ par accumulation d'histogrammes\n",
    "- Générales\n",
    "    - Facteur $\\sqrt{2/Zh}$\n",
    "- Mesure de $V(t)$\n",
    "    - Simulée par numpy.random $\\checkmark$\n",
    "- Calcul de $p(t)$ et $q(t)$\n",
    "    - Convolution directe\n",
    "        - using numpy.convole $\\checkmark$\n",
    "        - hard code python\n",
    "        - hard code C\n",
    "    - Convolution fftconvole\n",
    "        - Origine des erreurs de bord\n",
    "        - Corrections des erreurs de bord\n",
    "        - using scipy.signal.fftconvolve\n",
    "        - hard code python\n",
    "        - hard code C\n",
    "- Histogrramme 1D\n",
    "    - Adapter code JO aux floats\n",
    "- Histogrramme 2D\n",
    "    - Adapter code JO aux floats\n",
    "- Moments et cumulants\n",
    "- Étude de l'efficacité de calcul\n",
    "\n"
   ]
  },
  {
   "cell_type": "markdown",
   "metadata": {},
   "source": [
    "## Variables et unitées\n",
    "- Variables mathématiques\n",
    "    - Tension : $V(t)$\n",
    "    - La fonction de transfert du système : $\\beta(t)$ en $\\mathrm{[V]/[V]}$\n",
    "    - Les quadratures en temps : $q(t)~;~p(t) $\n",
    "    - Les moments de P et Q : \n",
    "    - Les espérances de $\\hat{n}$ :\n",
    "- Variables informatiques\n",
    "    - Tension mesurée  \n",
    "        - V_i en $\\mathrm[V]$\n",
    "        - Nb points dans V_i : N_Vi\n",
    "    - Les quadratures en temps mesurée \n",
    "        - P_i , Q_i en $\\mathrm[V] / \\mathrm[\\sqrt{Zh}]$\n",
    "        - Nb de points : N_QP\n",
    "    - Noyaux des transformées de Reulet représentation en temps\n",
    "        - NoyauP, NoyauQ\n",
    "        - Nb points à droite : N_Noyaux\n",
    "    - Noyaux des transformées de Reulet représentation en fréquence\n",
    "        - NoyauP, NoyauQ\n",
    "        - Nb points = N_QP\n",
    "    - Les objets d'accumulation d'histogramme : $h_{P_i}~\\&h_{Q_i}$\n",
    "    - Les moments de P et Q : \n",
    "    - Les espérances de $\\hat{n}$ :"
   ]
  },
  {
   "cell_type": "markdown",
   "metadata": {},
   "source": [
    "## All the import stuff"
   ]
  },
  {
   "cell_type": "code",
   "execution_count": 1,
   "metadata": {},
   "outputs": [
    {
     "ename": "ImportError",
     "evalue": "No module named add_mingw_to_PATH",
     "output_type": "error",
     "traceback": [
      "\u001b[1;31m---------------------------------------------------------------------------\u001b[0m",
      "\u001b[1;31mImportError\u001b[0m                               Traceback (most recent call last)",
      "\u001b[1;32m<ipython-input-1-b7dc313dea32>\u001b[0m in \u001b[0;36m<module>\u001b[1;34m()\u001b[0m\n\u001b[0;32m      2\u001b[0m \u001b[1;32mimport\u001b[0m \u001b[0msys\u001b[0m\u001b[1;33m\u001b[0m\u001b[0m\n\u001b[0;32m      3\u001b[0m \u001b[0msys\u001b[0m\u001b[1;33m.\u001b[0m\u001b[0mpath\u001b[0m\u001b[1;33m.\u001b[0m\u001b[0minsert\u001b[0m\u001b[1;33m(\u001b[0m\u001b[1;36m0\u001b[0m\u001b[1;33m,\u001b[0m \u001b[1;34m'C:/Users/simon/Desktop/CODES/Time_quadratures-OTF'\u001b[0m\u001b[1;33m)\u001b[0m\u001b[1;33m\u001b[0m\u001b[0m\n\u001b[1;32m----> 4\u001b[1;33m \u001b[1;32mimport\u001b[0m \u001b[0madd_mingw_to_PATH\u001b[0m\u001b[1;33m\u001b[0m\u001b[0m\n\u001b[0m\u001b[0;32m      5\u001b[0m \u001b[1;33m\u001b[0m\u001b[0m\n\u001b[0;32m      6\u001b[0m \u001b[1;31m# plot stuff\u001b[0m\u001b[1;33m\u001b[0m\u001b[1;33m\u001b[0m\u001b[0m\n",
      "\u001b[1;31mImportError\u001b[0m: No module named add_mingw_to_PATH"
     ]
    }
   ],
   "source": [
    "# PATH management stuff\n",
    "import sys\n",
    "sys.path.insert(0, 'C:/Users/simon/Desktop/CODES/Time_quadratures-OTF')\n",
    "sys.path.insert(0, 'C:\\Projets\\TimeQuad\\Time_quadratures-OTF')\n",
    "import add_mingw_to_PATH\n",
    "\n",
    "# plot stuff\n",
    "from matplotlib.pyplot import  plot, xlabel, ylabel, axis, hist, figure, axis, subplots, xlim, ylim\n",
    "from mpl_toolkits.mplot3d import axes3d, Axes3D \n",
    "# timeit funcitonnalities stuff\n",
    "from IPython import get_ipython\n",
    "ipython = get_ipython()\n",
    "# NUMPY\n",
    "    # np utilities stuff\n",
    "from numpy import array, meshgrid, arange, zeros, array_equal, around\n",
    "    # np convolution stuff\n",
    "from numpy import convolve\n",
    "    # np FFT stuff\n",
    "from numpy.fft import fft, fftfreq\n",
    "    # np random stuff\n",
    "from numpy.random import normal, randint\n",
    "    # numpy type stuff\n",
    "from numpy import  int16\n",
    "# SCIPY \n",
    "from scipy.signal import fftconvolve\n",
    "\n",
    "# CUSTOM PY MODULE stuff\n",
    "from Python_Module import*\n",
    "# CPP Time_Quad stuff\n",
    "from time_quadratures import*"
   ]
  },
  {
   "cell_type": "markdown",
   "metadata": {},
   "source": [
    "## Options d'exécution"
   ]
  },
  {
   "cell_type": "code",
   "execution_count": 2,
   "metadata": {},
   "outputs": [],
   "source": [
    "# Figures optionnelles\n",
    "OptionalPlots = set([\n",
    "    #'Beta_t', \n",
    "    #'HistoV_i',\n",
    "    #'NoyauxDeT',\n",
    "    #'NoyauxDeT_CPP'\n",
    "    #'PetQ_direct',\n",
    "    'PetQ_FFT_Py',\n",
    "    'PetQ_Scipy',\n",
    "    'PetQ_CPP'\n",
    "])\n",
    "\n",
    "# Sections optionnelles\n",
    "OptionalSec = set([\n",
    "    #'CompareKernel',\n",
    "])\n",
    "\n",
    "# Exécution de l'algorithme (options):\n",
    "NoiseType = set([\n",
    "    'GaussianNoise',\n",
    "    # 'GuzzikOutput',\n",
    "])\n",
    "ConvolutionType = set([\n",
    "    #'Directe',\n",
    "    'FFT_Scipy',\n",
    "    'FFT_Py',\n",
    "    #'Directe_CPP',\n",
    "    'FFT_CPP',\n",
    "    # FFT_Parallel_1,\n",
    "    # FFT_Parallel_2,\n",
    "])\n",
    "HitogrameType = set([\n",
    "    # 1D_py,\n",
    "    # 2D_py,\n",
    "    # \n",
    "])"
   ]
  },
  {
   "cell_type": "markdown",
   "metadata": {},
   "source": [
    "# Générales"
   ]
  },
  {
   "cell_type": "markdown",
   "metadata": {},
   "source": [
    "Gestion des préfacteurs $\\sqrt{\\frac{2}{Zh}}$..?"
   ]
  },
  {
   "cell_type": "markdown",
   "metadata": {},
   "source": [
    " ### $\\beta(t)$ idéalle\n",
    "    - La fonction $\\beta(t)$ combiné du Guzik, des amplis et des fils est modélisée par un filtre passante bande idéal entre $0.5~\\mathrm[GHz]$ et $10~\\mathrm[GHz]$. Ça largeur à mis hateurs temporelles est $\\approx 0.1~\\mathrm{[ns]}$.\n",
    "    - Le noyaux des convolutions de P et Q construit pour être beaucoup plus large que $\\beta(t)$"
   ]
  },
  {
   "cell_type": "code",
   "execution_count": 3,
   "metadata": {},
   "outputs": [],
   "source": [
    "if 'Beta_t' in OptionalPlots:\n",
    "    Beta_t(Df  = 0.0005e9,N = 2**16,Fmin=  0.5e9)"
   ]
  },
  {
   "cell_type": "markdown",
   "metadata": {},
   "source": [
    "## Instantification de Time_Quad"
   ]
  },
  {
   "cell_type": "code",
   "execution_count": 4,
   "metadata": {},
   "outputs": [],
   "source": [
    "L_kernel = 1<<8;\n",
    "L_data= 1<<20;\n",
    "L_FFT = 1<<10;\n",
    "\n",
    "dt = 0.03125; # [ns]; # Default value\n",
    "Convolution_type = 'fft'; # Default value\n",
    "\n",
    "X = Time_Quad_double_int16_t( L_kernel, L_data, L_FFT);"
   ]
  },
  {
   "cell_type": "markdown",
   "metadata": {},
   "source": [
    "### Numpy instance through buffer protocol\n",
    " - copy = False :\n",
    "     The numpy array instane uses the C++ allocated memory \n",
    " - Memory is only deallocated when X is detroyed by python"
   ]
  },
  {
   "cell_type": "code",
   "execution_count": 5,
   "metadata": {},
   "outputs": [],
   "source": [
    "# Numpy instance of arrays\n",
    "data = array(X.data, copy = False);\n",
    "\n",
    "kernel_p = array(X.kernel_p, copy = False);\n",
    "kernel_q = array(X.kernel_q, copy = False);\n",
    "\n",
    "p_full = array(X.p_full, copy = False);\n",
    "p_valid = array(X.p_valid, copy = False);\n",
    "\n",
    "q_full = array(X.q_full, copy = False);\n",
    "q_valid = array(X.q_valid, copy = False);"
   ]
  },
  {
   "cell_type": "markdown",
   "metadata": {},
   "source": [
    "# Mesures de $V(t)$"
   ]
  },
  {
   "cell_type": "markdown",
   "metadata": {},
   "source": [
    "$\\expval{V_i} =0 ~;~~ \\sigma = 2^{12}~;~~\\mathrm{Max(int16)} = 2^{15}-1=32767~;~~\\mathrm{Min(int16)} = -2^{15}-32768$"
   ]
  },
  {
   "cell_type": "code",
   "execution_count": 6,
   "metadata": {},
   "outputs": [],
   "source": [
    "if 'GaussianNoise' in NoiseType :\n",
    "    mu=0\n",
    "    sigma=2**12\n",
    "    V_i = normal(mu,sigma,L_data); V_i = int16(V_i) \n",
    "    \n",
    "    if 'HistoV_i' in OptionalPlots:\n",
    "        figure()\n",
    "        count, bins, ignored = hist(V_i,100, density=True); xlabel('[V]')"
   ]
  },
  {
   "cell_type": "markdown",
   "metadata": {},
   "source": [
    "### Coying the data to the C++ array"
   ]
  },
  {
   "cell_type": "code",
   "execution_count": 7,
   "metadata": {},
   "outputs": [],
   "source": [
    "data[:] = V_i;"
   ]
  },
  {
   "cell_type": "markdown",
   "metadata": {},
   "source": [
    "# Calcul de $P_i$ et $Q_i$ par convolution"
   ]
  },
  {
   "cell_type": "markdown",
   "metadata": {},
   "source": [
    "##  Noyaux de convolutions :\n",
    " - Les noyaux ont un nombre paires de point et de sont jamais évalués à $t=0$.\n",
    " - $p(t)$ et q(t) sont définie comme des intégrales en valeure principale. \n",
    "$$p(t) = \\frac{s_+(t) + s_-(t)}{2}$$\n",
    "$$q(t) = \\frac{s_+(t) - s_-(t)}{2}$$\n",
    "$$s_{\\pm}(t) = \\sqrt{\\frac{2}{Zh}} \\int_{\\pm} \\frac{v(t-t')}{\\sqrt{|t'|}}$$\n",
    "Pour approcher numériquement une intégrale en valeur principale les noyaux NoyauP($t=0$) et NoyauQ($t=0$) $\\equiv 0$\n",
    "- Ceci est atteint en construisant  NoyauP($t$) et NoyauQ($t$) comme des vecteurs à nombre de points paire centrée autour de $t=0$ ainsi NoyauP($t=0$) et NoyauQ($t=0$) ne sont pas évaluer dans le vecteurs (effectivement nulle).\n",
    " - Conceptuellement cela revient à dire que les représentations discrête de $p(t)$ et $q(t)$ seront décaler de $\\Delta t/2$ vers la droite par rapport à la représentation discrète de $v(t)$."
   ]
  },
  {
   "cell_type": "markdown",
   "metadata": {},
   "source": [
    "### Comparer les kernels"
   ]
  },
  {
   "cell_type": "markdown",
   "metadata": {},
   "source": [
    "if 'CompareKernel' in OptionalSec :\n",
    "    T_kernels = Abscisse_Kernel_time(L_kernel, dt)\n",
    "    # De PY MODULE :\n",
    "    (NoyauP,NoyauQ) = Kernels_time(L_kernel, dt)  # [ns^-1/2]\n",
    "    # De Time_Quad :\n",
    "    #figure()\n",
    "    #plot(T_kernels,NoyauP); plot(T_kernels,NoyauQ); xlabel('[ps]');ylabel('[ns-1/2]')\n",
    "    #figure()\n",
    "    #plot(T_kernels,kernel_p); plot(T_kernels,kernel_q);xlabel('[ps]');ylabel('[ns-1/2]')\n",
    "    #figure()\n",
    "    #plot(T_kernels,kernel_p-NoyauP);plot(T_kernels,kernel_q-NoyauQ);xlabel('[ps]');ylabel('[ns-1/2]')\n",
    "    \n",
    "    print(\"k_p(t) are equal =\",array_equal(kernel_p,NoyauP))\n",
    "    print(\"k_q(t) are equal =\",array_equal(kernel_q,NoyauQ))\n",
    "    \n",
    "\n",
    "    #De PY MODULE :\n",
    "        #F_Noyaux = Abscisse_Kernel_freq(L_kernel,dt)\n",
    "    #Zero padding the Kernel\n",
    "    k_p = zeros(L_FFT); k_p[0:L_kernel] = NoyauP;\n",
    "    k_q = zeros(L_FFT); k_q[0:L_kernel] = NoyauQ;\n",
    "    PY_FFT_k_p = fft(k_p)[:L_FFT/2+1];\n",
    "    PY_FFT_k_q = fft(k_q)[:L_FFT/2+1];\n",
    "   \n",
    "    # De Time_Quad :\n",
    "    #X.execute();\n",
    "    X.execute_kernel();\n",
    "    \n",
    "    #figure()\n",
    "    #fig, axs = subplots(1,2,figsize=(20,10),sharey='row') #xlabel([GHz])\n",
    "    #axs[0].plot(PY_FFT_k_p.real);axs[0].plot(PY_FFT_k_p.imag)\n",
    "    #axs[1].plot(FFT_kernel_p.real);axs[1].plot(FFT_kernel_p.imag);\n",
    "    #axs[1,0].plot(fft(NoyauQ).imag)\n",
    "    #axs[1,1].plot(FFT_kernel_q.imag)\n",
    "    \n",
    "    # a d decimales près\n",
    "    d = 10\n",
    "    print(\"k_p(f) are equal =\",array_equal( around(FFT_kernel_p,d),around(PY_FFT_k_p,d) ) )\n",
    "    print(\"k_q(f) are equal =\",array_equal( around(FFT_kernel_q,d),around(PY_FFT_k_q,d) ) )"
   ]
  },
  {
   "cell_type": "markdown",
   "metadata": {},
   "source": [
    "## Convolution directe"
   ]
  },
  {
   "cell_type": "markdown",
   "metadata": {},
   "source": [
    "### Comparaison entre numpy.convolve et Time_Quad"
   ]
  },
  {
   "cell_type": "markdown",
   "metadata": {},
   "source": [
    "if 'Directe' in ConvolutionType :\n",
    "    # En python\n",
    "    P_i = convolve(kernel_p,data,mode='full')\n",
    "    Q_i = convolve(kernel_q,data,mode='full')\n",
    "    \n",
    "    # En c++\n",
    "    X.Convolution_type = 'direct';\n",
    "    X.execute();\n",
    "    \n",
    "    if 'PetQ' in OptionalPlots :\n",
    "        fig, axs = subplots(3,2,figsize=(10,10))\n",
    "        axs[0,0].plot(P_i,'+');axs[0,1].plot(Q_i);\n",
    "        axs[1,0].plot(p_full,'+');axs[1,1].plot(q_full);\n",
    "        axs[2,0].plot((p_full-P_i),'+');axs[2,1].plot((q_full-Q_i));\n",
    "    # garbage\n",
    "    del data, kernel_p, kernel_q, p_full, q_full, X"
   ]
  },
  {
   "cell_type": "markdown",
   "metadata": {},
   "source": [
    "## Convolution FFT"
   ]
  },
  {
   "cell_type": "markdown",
   "metadata": {},
   "source": [
    "### Avec scipy.signal.ffconvolve"
   ]
  },
  {
   "cell_type": "code",
   "execution_count": 8,
   "metadata": {},
   "outputs": [
    {
     "data": {
      "image/png": "[encoded data removed]",
      "text/plain": [
       "<Figure size 720x360 with 2 Axes>"
      ]
     },
     "metadata": {
      "needs_background": "light"
     },
     "output_type": "display_data"
    }
   ],
   "source": [
    "if 'FFT_Scipy' in ConvolutionType :\n",
    "    # Construct Noyau\n",
    "    (NoyauP,NoyauQ) = Kernels_time(L_kernel, dt)   # [ns^-1/2]\n",
    "    P_i_scipy = fftconvolve(NoyauP,V_i,mode='full') # shape 9001\n",
    "    Q_i_scipy = fftconvolve(NoyauQ,V_i,mode='full')\n",
    "    # plot et Histrogramme de P et Q (fait par Python)\n",
    "    if 'PetQ_Scipy' in OptionalPlots :\n",
    "        fig, axs = subplots(1,2,figsize=(10,5))\n",
    "        axs[0].plot(P_i_scipy);axs[1].plot(Q_i_scipy);\n",
    "       #axs[1,0].hist(P_i_scipy,100);axs[1,1].hist(Q_i_scipy,100);"
   ]
  },
  {
   "cell_type": "markdown",
   "metadata": {},
   "source": [
    "### En prenant la transformée de Fourier inverse\n",
    "$$ P(t) = \\mathcal{F}^{-1}\\Bigg\\{\\frac{1}{\\sqrt{|f|}} \\mathcal{F}\\Big\\{v(t)\\Big\\}\\Bigg\\}$$\n",
    "\n",
    "$$ Q(t) = \\mathcal{F}^{-1}\\Bigg\\{-i\\frac{\\mathrm{sgn}(f)}{\\sqrt{|f|}} \\mathcal{F}\\Big\\{v(t)\\Big\\}\\Bigg\\}$$\n",
    "\n",
    " - J'écrit l'lagorithme en me basant sur https://www.dspguide.com/ch18/2.htm\n",
    " - Voir aussi http://www.bitweenie.com/listings/fft-zero-padding/\n",
    " - Le résultat d'une FFT convolution est indentique au résultat d'une convolution (à la propagation d'erreur près).\n",
    " - Seule la section \"valid\" de la convolution m'intéresse ou le kernel et le signal s'overlap completement. Elle a longueur max(M,N) - min(M,N) + 1. Pour un signal v(t) en $10^9$ points et un Kernel de $10^3$ points $p(t)$ et $q(t)$ sont donc valident sur $10^9-10^3+1$ points.\n",
    " - Les FFTs sont plus efficaces pour des vecteurs de longueur en puissance de 2. La puissance de 2 la plus près de 10^9 est 2^30 = 1073741824 le signal pourrait donc être traité en une seulle FFT, mais celle-ci serait beaucoup trop longent\n",
    " - Une meilleure alternative est choisir des longueurs de FFT plus raisonnable en segmentant le vecteur V_i et segment v_i de longeur N_vi et en respectant la règle N_vi + N_kernel -1 = 2^n. Ceci empêche la convolution d'être circulaire.\n",
    " - Les signaux p(t) et q(t) sont alors récupérés en prenant la somme sur les transformées inverses (voir : https://www.dspguide.com/ch18/2.htm)\n",
    " - Pour l'instant N_kernel = 10^3; 2^n= 2^11 = 2048 et donc N_vi = 1049 "
   ]
  },
  {
   "cell_type": "markdown",
   "metadata": {},
   "source": [
    "### Pré-calcul de NoyauP et NoyauQ dans l'espace des fréquences\n",
    "    - La forme de NoyauP et NoyauQ est analytique pas besoin de fair une FFT.\n",
    "    - Ils ont déjà été calculé plus haut\n",
    " "
   ]
  },
  {
   "cell_type": "code",
   "execution_count": 9,
   "metadata": {},
   "outputs": [],
   "source": [
    "if 'FFT_Py' in ConvolutionType :    \n",
    "    # Calcul parrallèlisable de p_i et q_i\n",
    "    (P_i, Q_i) = FFTConv(V_i, L_kernel, L_FFT, dt)"
   ]
  },
  {
   "cell_type": "markdown",
   "metadata": {},
   "source": [
    "if 'FFT_CPP' in ConvolutionType:\n",
    "    a=1;"
   ]
  },
  {
   "cell_type": "code",
   "execution_count": 10,
   "metadata": {},
   "outputs": [],
   "source": [
    "# En c++\n",
    "X.Convolution_type = 'fft';"
   ]
  },
  {
   "cell_type": "code",
   "execution_count": 11,
   "metadata": {},
   "outputs": [],
   "source": [
    "X.execute();"
   ]
  },
  {
   "cell_type": "code",
   "execution_count": 12,
   "metadata": {},
   "outputs": [
    {
     "data": {
      "image/png": "[encoded data removed]",
      "text/plain": [
       "<Figure size 720x720 with 3 Axes>"
      ]
     },
     "metadata": {
      "needs_background": "light"
     },
     "output_type": "display_data"
    }
   ],
   "source": [
    "if 'PetQ_CPP' in OptionalPlots :\n",
    "    fig, axs = subplots(3,1,figsize=(10,10))\n",
    "    SLICE = slice( None, None, None );\n",
    "    axs[0].plot(P_i_scipy[SLICE])#;axs[0,1].plot(Q_i_scipy);\n",
    "    axs[1].plot(p_full[SLICE])#;axs[1,1].plot(q_full);\n",
    "    axs[2].plot(P_i_scipy[SLICE]-p_full[SLICE])\n",
    "    #axs[1,0].hist(P_i_scipy,100);axs[1,1].hist(Q_i_scipy,100);"
   ]
  },
  {
   "cell_type": "markdown",
   "metadata": {},
   "source": [
    "# plot et Histrogramme de P et Q (fait par Python)\n",
    "if 'PetQ' in OptionalPlots :\n",
    "    fig, axs = subplots(2,2,figsize=(10,10))\n",
    "    axs[0,0].plot(P_i);axs[0,1].plot(Q_i);\n",
    "    axs[1,0].hist(P_i,100);axs[1,1].hist(Q_i,100);"
   ]
  },
  {
   "cell_type": "markdown",
   "metadata": {},
   "source": [
    "## Différence entre scipy.fftconvolve et FFTConv"
   ]
  },
  {
   "cell_type": "markdown",
   "metadata": {},
   "source": [
    "figure\n",
    "plot(P_i-P_i_scipy); \n",
    "plot(Q_i-Q_i_scipy);"
   ]
  },
  {
   "cell_type": "markdown",
   "metadata": {},
   "source": [
    "P_i_scipy.size"
   ]
  },
  {
   "cell_type": "markdown",
   "metadata": {},
   "source": [
    "# Histogramme 1D"
   ]
  },
  {
   "cell_type": "markdown",
   "metadata": {},
   "source": [
    " Méthodes d'accumulation d'histogramme 1D et 2D en python et en C écrit par JO\n",
    " Contient aussi des méthodes de calcul de moment et de cumulants écrit en python et en C \n"
   ]
  },
  {
   "cell_type": "markdown",
   "metadata": {},
   "source": [
    "# Méthodes de JO\n",
    "#import sys, os\n",
    "#sys.path.append('C:/Users/simon/Desktop/TimeDomain_Guzik/Code/Histograms-OTF/')\n",
    "#from histograms_otf import hist1dNbits, hist2dNbits\n",
    "# Autres packages"
   ]
  },
  {
   "cell_type": "markdown",
   "metadata": {},
   "source": [
    "## Accumulation des histogrammes de P et Q\n",
    "\n",
    "Ne peut pas ré-utiliser le code d'accumulation d'histogramme de JO, car mes histogrammes sont nécessairement des float à cause de\n",
    "\n",
    "\n"
   ]
  }
 ],
 "metadata": {
  "kernelspec": {
   "display_name": "Python 2",
   "language": "python",
   "name": "python2"
  },
  "language_info": {
   "codemirror_mode": {
    "name": "ipython",
    "version": 2
   },
   "file_extension": ".py",
   "mimetype": "text/x-python",
   "name": "python",
   "nbconvert_exporter": "python",
   "pygments_lexer": "ipython2",
   "version": "2.7.15"
  }
 },
 "nbformat": 4,
 "nbformat_minor": 4
}
